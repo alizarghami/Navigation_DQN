{
 "cells": [
  {
   "cell_type": "markdown",
   "metadata": {},
   "source": [
    "# Navigation Project\n",
    "This is the main code for the Navigation project\n",
    "\n",
    "In this notebook, a pre-trained model will be evaluated in 100 independent episodes and the average score will be reported. Also a new model will be trained untill the score reach the provided criteria. Average score for 100 last episodes will be ploted for each episode to show the training progress."
   ]
  },
  {
   "cell_type": "markdown",
   "metadata": {},
   "source": [
    "## Import modules"
   ]
  },
  {
   "cell_type": "code",
   "execution_count": 1,
   "metadata": {},
   "outputs": [],
   "source": [
    "from navigation import Navigation"
   ]
  },
  {
   "cell_type": "markdown",
   "metadata": {},
   "source": [
    "## Parameters\n",
    "Please provide suitable values for the following parameters"
   ]
  },
  {
   "cell_type": "code",
   "execution_count": 4,
   "metadata": {},
   "outputs": [],
   "source": [
    "# path to the unity environment\n",
    "env_path = \"Banana_Windows_x86_64/Banana.x86_64\"\n",
    "\n",
    "prioritize_er=True\n",
    "double_dqn=True\n",
    "drop_out = False\n",
    "\n",
    "# Score to reach to consider the problem solved\n",
    "criteria = 13\n"
   ]
  },
  {
   "cell_type": "markdown",
   "metadata": {},
   "source": [
    "## Initialization"
   ]
  },
  {
   "cell_type": "code",
   "execution_count": 5,
   "metadata": {},
   "outputs": [
    {
     "name": "stderr",
     "output_type": "stream",
     "text": [
      "INFO:unityagents:\n",
      "'Academy' started successfully!\n",
      "Unity Academy name: Academy\n",
      "        Number of Brains: 1\n",
      "        Number of External Brains : 1\n",
      "        Lesson number : 0\n",
      "        Reset Parameters :\n",
      "\t\t\n",
      "Unity brain name: BananaBrain\n",
      "        Number of Visual Observations (per agent): 0\n",
      "        Vector Observation space type: continuous\n",
      "        Vector Observation space size (per agent): 37\n",
      "        Number of stacked Vector Observation: 1\n",
      "        Vector Action space type: discrete\n",
      "        Vector Action space size (per agent): 4\n",
      "        Vector Action descriptions: , , , \n"
     ]
    }
   ],
   "source": [
    "# Create a navigation instance\n",
    "nav = Navigation(env_path, criteria=13, seed=0, prioritize_er=prioritize_er, double_dqn=double_dqn, drop_out=drop_out)"
   ]
  },
  {
   "cell_type": "markdown",
   "metadata": {},
   "source": [
    "## Train a new model"
   ]
  },
  {
   "cell_type": "code",
   "execution_count": 6,
   "metadata": {},
   "outputs": [
    {
     "name": "stdout",
     "output_type": "stream",
     "text": [
      "Training in progress...\n",
      "Episode 100\tAverage Score: 0.18\n",
      "Episode 200\tAverage Score: 1.32\n",
      "Episode 300\tAverage Score: 2.03\n",
      "Episode 400\tAverage Score: 2.69\n",
      "Episode 500\tAverage Score: 4.43\n",
      "Episode 600\tAverage Score: 4.31\n",
      "Episode 700\tAverage Score: 5.13\n",
      "Episode 800\tAverage Score: 4.43\n",
      "Episode 900\tAverage Score: 4.59\n",
      "Episode 1000\tAverage Score: 3.97\n",
      "Failed to reach Criteria after 1000 episodes\n"
     ]
    },
    {
     "data": {
      "image/png": "[encoded data removed]",
      "text/plain": [
       "<Figure size 432x288 with 1 Axes>"
      ]
     },
     "metadata": {
      "needs_background": "light"
     },
     "output_type": "display_data"
    }
   ],
   "source": [
    "# Train the model\n",
    "outcome = nav.train()\n",
    "# Save the trained model if the criteria is reached\n",
    "if outcome:\n",
    "    nav.save_model('models/new_model.pth')"
   ]
  },
  {
   "cell_type": "code",
   "execution_count": 6,
   "metadata": {},
   "outputs": [],
   "source": [
    "# Close the unity environment\n",
    "nav.close_env()"
   ]
  }
 ],
 "metadata": {
  "kernelspec": {
   "display_name": "Python 3",
   "language": "python",
   "name": "python3"
  },
  "language_info": {
   "codemirror_mode": {
    "name": "ipython",
    "version": 3
   },
   "file_extension": ".py",
   "mimetype": "text/x-python",
   "name": "python",
   "nbconvert_exporter": "python",
   "pygments_lexer": "ipython3",
   "version": "3.6.10"
  }
 },
 "nbformat": 4,
 "nbformat_minor": 4
}
